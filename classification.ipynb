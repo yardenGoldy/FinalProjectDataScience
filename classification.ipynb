{
 "cells": [
  {
   "cell_type": "code",
   "execution_count": 2,
   "metadata": {},
   "outputs": [],
   "source": [
    "import pandas as pandas"
   ]
  },
  {
   "cell_type": "code",
   "execution_count": 3,
   "metadata": {},
   "outputs": [],
   "source": [
    "dataFrameHotels = pandas.read_csv(\"./Hotels_data_Changed.csv\")"
   ]
  },
  {
   "cell_type": "code",
   "execution_count": 4,
   "metadata": {},
   "outputs": [],
   "source": [
    "def prepareDataFormat(dataFrameHotels):\n",
    "    dataFrameHotels['Checkin Date'] = pandas.to_datetime(dataFrameHotels['Checkin Date'])\n",
    "    dataFrameHotels['Snapshot Date'] = pandas.to_datetime(dataFrameHotels['Snapshot Date'])\n",
    "    dataFrameHotels['DayDiff'] = pandas.to_numeric(dataFrameHotels['DayDiff'])\n",
    "    "
   ]
  },
  {
   "cell_type": "code",
   "execution_count": 5,
   "metadata": {},
   "outputs": [],
   "source": [
    "prepareDataFormat(dataFrameHotels)"
   ]
  },
  {
   "cell_type": "code",
   "execution_count": 6,
   "metadata": {},
   "outputs": [
    {
     "data": {
      "text/html": [
       "<div>\n",
       "<style scoped>\n",
       "    .dataframe tbody tr th:only-of-type {\n",
       "        vertical-align: middle;\n",
       "    }\n",
       "\n",
       "    .dataframe tbody tr th {\n",
       "        vertical-align: top;\n",
       "    }\n",
       "\n",
       "    .dataframe thead th {\n",
       "        text-align: right;\n",
       "    }\n",
       "</style>\n",
       "<table border=\"1\" class=\"dataframe\">\n",
       "  <thead>\n",
       "    <tr style=\"text-align: right;\">\n",
       "      <th></th>\n",
       "      <th>Unnamed: 0</th>\n",
       "      <th>Snapshot ID</th>\n",
       "      <th>Snapshot Date</th>\n",
       "      <th>Checkin Date</th>\n",
       "      <th>Days</th>\n",
       "      <th>Original Price</th>\n",
       "      <th>Discount Price</th>\n",
       "      <th>Discount Code</th>\n",
       "      <th>Available Rooms</th>\n",
       "      <th>Hotel Name</th>\n",
       "      <th>Hotel Stars</th>\n",
       "      <th>DayDiff</th>\n",
       "      <th>WeekDay</th>\n",
       "      <th>DiscountDiff</th>\n",
       "      <th>DiscountPerc</th>\n",
       "    </tr>\n",
       "  </thead>\n",
       "  <tbody>\n",
       "    <tr>\n",
       "      <th>0</th>\n",
       "      <td>0</td>\n",
       "      <td>1</td>\n",
       "      <td>2015-07-17</td>\n",
       "      <td>2015-08-12</td>\n",
       "      <td>5</td>\n",
       "      <td>1178</td>\n",
       "      <td>1040</td>\n",
       "      <td>1</td>\n",
       "      <td>6</td>\n",
       "      <td>Best Western Plus Seaport Inn Downtown</td>\n",
       "      <td>3</td>\n",
       "      <td>26</td>\n",
       "      <td>Wednesday</td>\n",
       "      <td>138</td>\n",
       "      <td>11.714771</td>\n",
       "    </tr>\n",
       "    <tr>\n",
       "      <th>1</th>\n",
       "      <td>1</td>\n",
       "      <td>1</td>\n",
       "      <td>2015-07-17</td>\n",
       "      <td>2015-08-19</td>\n",
       "      <td>5</td>\n",
       "      <td>1113</td>\n",
       "      <td>982</td>\n",
       "      <td>1</td>\n",
       "      <td>8</td>\n",
       "      <td>Best Western Plus Seaport Inn Downtown</td>\n",
       "      <td>3</td>\n",
       "      <td>33</td>\n",
       "      <td>Wednesday</td>\n",
       "      <td>131</td>\n",
       "      <td>11.769991</td>\n",
       "    </tr>\n",
       "    <tr>\n",
       "      <th>2</th>\n",
       "      <td>2</td>\n",
       "      <td>1</td>\n",
       "      <td>2015-07-17</td>\n",
       "      <td>2015-08-13</td>\n",
       "      <td>5</td>\n",
       "      <td>4370</td>\n",
       "      <td>4240</td>\n",
       "      <td>1</td>\n",
       "      <td>3</td>\n",
       "      <td>The Peninsula New York</td>\n",
       "      <td>5</td>\n",
       "      <td>27</td>\n",
       "      <td>Thursday</td>\n",
       "      <td>130</td>\n",
       "      <td>2.974828</td>\n",
       "    </tr>\n",
       "    <tr>\n",
       "      <th>3</th>\n",
       "      <td>3</td>\n",
       "      <td>1</td>\n",
       "      <td>2015-07-17</td>\n",
       "      <td>2015-07-26</td>\n",
       "      <td>5</td>\n",
       "      <td>1739</td>\n",
       "      <td>1667</td>\n",
       "      <td>1</td>\n",
       "      <td>18</td>\n",
       "      <td>Eventi Hotel a Kimpton Hotel</td>\n",
       "      <td>4</td>\n",
       "      <td>9</td>\n",
       "      <td>Sunday</td>\n",
       "      <td>72</td>\n",
       "      <td>4.140311</td>\n",
       "    </tr>\n",
       "    <tr>\n",
       "      <th>4</th>\n",
       "      <td>4</td>\n",
       "      <td>1</td>\n",
       "      <td>2015-07-17</td>\n",
       "      <td>2015-08-12</td>\n",
       "      <td>5</td>\n",
       "      <td>1739</td>\n",
       "      <td>1672</td>\n",
       "      <td>1</td>\n",
       "      <td>3</td>\n",
       "      <td>Eventi Hotel a Kimpton Hotel</td>\n",
       "      <td>4</td>\n",
       "      <td>26</td>\n",
       "      <td>Wednesday</td>\n",
       "      <td>67</td>\n",
       "      <td>3.852789</td>\n",
       "    </tr>\n",
       "  </tbody>\n",
       "</table>\n",
       "</div>"
      ],
      "text/plain": [
       "   Unnamed: 0  Snapshot ID Snapshot Date Checkin Date  Days  Original Price  \\\n",
       "0           0            1    2015-07-17   2015-08-12     5            1178   \n",
       "1           1            1    2015-07-17   2015-08-19     5            1113   \n",
       "2           2            1    2015-07-17   2015-08-13     5            4370   \n",
       "3           3            1    2015-07-17   2015-07-26     5            1739   \n",
       "4           4            1    2015-07-17   2015-08-12     5            1739   \n",
       "\n",
       "   Discount Price  Discount Code  Available Rooms  \\\n",
       "0            1040              1                6   \n",
       "1             982              1                8   \n",
       "2            4240              1                3   \n",
       "3            1667              1               18   \n",
       "4            1672              1                3   \n",
       "\n",
       "                               Hotel Name  Hotel Stars  DayDiff    WeekDay  \\\n",
       "0  Best Western Plus Seaport Inn Downtown            3       26  Wednesday   \n",
       "1  Best Western Plus Seaport Inn Downtown            3       33  Wednesday   \n",
       "2                  The Peninsula New York            5       27   Thursday   \n",
       "3            Eventi Hotel a Kimpton Hotel            4        9     Sunday   \n",
       "4            Eventi Hotel a Kimpton Hotel            4       26  Wednesday   \n",
       "\n",
       "   DiscountDiff  DiscountPerc  \n",
       "0           138     11.714771  \n",
       "1           131     11.769991  \n",
       "2           130      2.974828  \n",
       "3            72      4.140311  \n",
       "4            67      3.852789  "
      ]
     },
     "execution_count": 6,
     "metadata": {},
     "output_type": "execute_result"
    }
   ],
   "source": [
    "dataFrameHotels.head()"
   ]
  },
  {
   "cell_type": "code",
   "execution_count": 7,
   "metadata": {},
   "outputs": [],
   "source": [
    "groupedByParamters = dataFrameHotels.groupby(['Snapshot Date', 'Checkin Date', 'DayDiff', 'Hotel Name', 'WeekDay'])"
   ]
  },
  {
   "cell_type": "code",
   "execution_count": 8,
   "metadata": {},
   "outputs": [],
   "source": [
    "def setMaxDiscountCode(group):\n",
    "\n",
    "    rowIndex = group['DiscountPerc'].idxmax(axis=1)\n",
    "\n",
    "    maxCode = group.loc[rowIndex]['Discount Code']\n",
    "\n",
    "    groupCell = group.iloc[0]\n",
    "\n",
    "    return {'Snapshot Date': groupCell['Snapshot Date'],\n",
    "            'Checkin Date': groupCell['Checkin Date'],\n",
    "            'DayDiff': groupCell['DayDiff'],\n",
    "            'Hotel Name': groupCell['Hotel Name'],\n",
    "            'WeekDay': groupCell['WeekDay'],\n",
    "            'Discount Code': maxCode }\n",
    "\n",
    "lst = groupedByParamters.apply(setMaxDiscountCode)\n",
    "\n",
    "maxCodes = pandas.concat([pandas.DataFrame([row], columns=['Snapshot Date',\n",
    "                                                  'Checkin Date',\n",
    "                                                  'DayDiff',\n",
    "                                                  'Hotel Name',\n",
    "                                                  'WeekDay',\n",
    "                                                  'Discount Code']) for index, row in lst.iteritems()], ignore_index = True)\n",
    "\n",
    "maxCodes.to_csv('classification_data.csv')"
   ]
  },
  {
   "cell_type": "code",
   "execution_count": 9,
   "metadata": {},
   "outputs": [],
   "source": [
    "# סעיף ב"
   ]
  },
  {
   "cell_type": "code",
   "execution_count": 10,
   "metadata": {},
   "outputs": [],
   "source": [
    "data = pandas.DataFrame(columns=['Snapshot Date',\n",
    "                                                  'Checkin Date',\n",
    "                                                  'DayDiff',\n",
    "                                                  'Hotel Name',\n",
    "                                                  'WeekDay'])\n",
    "target = pandas.DataFrame(columns=['Discount Code'])"
   ]
  },
  {
   "cell_type": "code",
   "execution_count": 11,
   "metadata": {},
   "outputs": [
    {
     "ename": "TypeError",
     "evalue": "parser_f() missing 1 required positional argument: 'filepath_or_buffer'",
     "output_type": "error",
     "traceback": [
      "\u001b[1;31m---------------------------------------------------------------------------\u001b[0m",
      "\u001b[1;31mTypeError\u001b[0m                                 Traceback (most recent call last)",
      "\u001b[1;32m<ipython-input-11-6da2a3dbf987>\u001b[0m in \u001b[0;36m<module>\u001b[1;34m\u001b[0m\n\u001b[0;32m      3\u001b[0m \u001b[1;32mfrom\u001b[0m \u001b[0msklearn\u001b[0m\u001b[1;33m.\u001b[0m\u001b[0mpreprocessing\u001b[0m \u001b[1;32mimport\u001b[0m \u001b[0mMinMaxScaler\u001b[0m\u001b[1;33m\u001b[0m\u001b[1;33m\u001b[0m\u001b[0m\n\u001b[0;32m      4\u001b[0m \u001b[1;33m\u001b[0m\u001b[0m\n\u001b[1;32m----> 5\u001b[1;33m \u001b[0mdfClassified\u001b[0m \u001b[1;33m=\u001b[0m \u001b[0mpandas\u001b[0m\u001b[1;33m.\u001b[0m\u001b[0mread_csv\u001b[0m\u001b[1;33m(\u001b[0m\u001b[1;33m)\u001b[0m\u001b[1;33m\u001b[0m\u001b[1;33m\u001b[0m\u001b[0m\n\u001b[0m\u001b[0;32m      6\u001b[0m \u001b[1;31m#trainData, testData, trainTarget, testTarget = train_test_split(data, target, random_state=0)\u001b[0m\u001b[1;33m\u001b[0m\u001b[1;33m\u001b[0m\u001b[1;33m\u001b[0m\u001b[0m\n",
      "\u001b[1;31mTypeError\u001b[0m: parser_f() missing 1 required positional argument: 'filepath_or_buffer'"
     ]
    }
   ],
   "source": [
    "from sklearn.model_selection import train_test_split\n",
    "from sklearn.tree import DecisionTreeClassifier\n",
    "from sklearn.preprocessing import MinMaxScaler\n",
    "\n",
    "dfClassified = pandas.read_csv()\n",
    "#trainData, testData, trainTarget, testTarget = train_test_split(data, target, random_state=0)"
   ]
  },
  {
   "cell_type": "code",
   "execution_count": null,
   "metadata": {},
   "outputs": [],
   "source": [
    "def decisionTree():\n",
    "    classifier = DecisionTreeClassifier().fit(trainData, trainTarget)\n",
    "    "
   ]
  },
  {
   "cell_type": "code",
   "execution_count": null,
   "metadata": {},
   "outputs": [],
   "source": [
    "print('Accuracy of Decision Tree classifier on training set: {:.2f}'\n",
    "     .format(classifier.score(trainData, trainTarget)))\n",
    "    print('Accuracy of Decision Tree classifier on test set: {:.2f}'\n",
    "     .format(classifier.score(testData, testTarget)))"
   ]
  },
  {
   "cell_type": "code",
   "execution_count": null,
   "metadata": {},
   "outputs": [],
   "source": []
  }
 ],
 "metadata": {
  "kernelspec": {
   "display_name": "Python 3",
   "language": "python",
   "name": "python3"
  },
  "language_info": {
   "codemirror_mode": {
    "name": "ipython",
    "version": 3
   },
   "file_extension": ".py",
   "mimetype": "text/x-python",
   "name": "python",
   "nbconvert_exporter": "python",
   "pygments_lexer": "ipython3",
   "version": "3.7.1"
  }
 },
 "nbformat": 4,
 "nbformat_minor": 2
}
