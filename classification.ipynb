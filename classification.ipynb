{
 "cells": [
  {
   "cell_type": "code",
   "execution_count": null,
   "metadata": {},
   "outputs": [],
   "source": [
    "import pandas as pandas"
   ]
  },
  {
   "cell_type": "code",
   "execution_count": null,
   "metadata": {},
   "outputs": [],
   "source": [
    "#dataFrameHotels = pandas.read_csv(\"./Hotels_data_Changed.csv\")"
   ]
  },
  {
   "cell_type": "code",
   "execution_count": null,
   "metadata": {},
   "outputs": [],
   "source": [
    "def prepareDataFormat(dataFrameHotels):\n",
    "    dataFrameHotels['Checkin Date'] = pandas.to_datetime(dataFrameHotels['Checkin Date'])\n",
    "    dataFrameHotels['Snapshot Date'] = pandas.to_datetime(dataFrameHotels['Snapshot Date'])\n",
    "    dataFrameHotels['DayDiff'] = pandas.to_numeric(dataFrameHotels['DayDiff'])\n",
    "    "
   ]
  },
  {
   "cell_type": "code",
   "execution_count": null,
   "metadata": {},
   "outputs": [],
   "source": [
    "prepareDataFormat(dataFrameHotels)"
   ]
  },
  {
   "cell_type": "code",
   "execution_count": null,
   "metadata": {},
   "outputs": [],
   "source": [
    "dataFrameHotels.head()"
   ]
  },
  {
   "cell_type": "code",
   "execution_count": null,
   "metadata": {},
   "outputs": [],
   "source": [
    "groupedByParamters = dataFrameHotels.groupby(['Snapshot Date', 'Checkin Date', 'DayDiff', 'Hotel Name', 'WeekDay'])"
   ]
  },
  {
   "cell_type": "code",
   "execution_count": null,
   "metadata": {},
   "outputs": [],
   "source": [
    "def setMaxDiscountCode(group):\n",
    "\n",
    "    rowIndex = group['DiscountPerc'].idxmax(axis=1)\n",
    "\n",
    "    maxCode = group.loc[rowIndex]['Discount Code']\n",
    "\n",
    "    groupCell = group.iloc[0]\n",
    "\n",
    "    return {'Snapshot Date': groupCell['Snapshot Date'],\n",
    "            'Checkin Date': groupCell['Checkin Date'],\n",
    "            'DayDiff': groupCell['DayDiff'],\n",
    "            'Hotel Name': groupCell['Hotel Name'],\n",
    "            'WeekDay': groupCell['WeekDay'],\n",
    "            'Discount Code': maxCode }\n",
    "\n",
    "lst = groupedByParamters.apply(setMaxDiscountCode)\n",
    "\n",
    "maxCodes = pandas.concat([pandas.DataFrame([row], columns=['Snapshot Date',\n",
    "                                                  'Checkin Date',\n",
    "                                                  'DayDiff',\n",
    "                                                  'Hotel Name',\n",
    "                                                  'WeekDay',\n",
    "                                                  'Discount Code']) for index, row in lst.iteritems()], ignore_index = True)\n",
    "\n",
    "maxCodes.to_csv('classification_data.csv')"
   ]
  },
  {
   "cell_type": "code",
   "execution_count": null,
   "metadata": {},
   "outputs": [],
   "source": [
    "# סעיף ב"
   ]
  },
  {
   "cell_type": "code",
   "execution_count": null,
   "metadata": {},
   "outputs": [],
   "source": [
    "data = pandas.DataFrame(columns=['Snapshot Date',\n",
    "                                                  'Checkin Date',\n",
    "                                                  'DayDiff',\n",
    "                                                  'Hotel Name',\n",
    "                                                  'WeekDay'])\n",
    "target = pandas.DataFrame(columns=['Discount Code'])"
   ]
  },
  {
   "cell_type": "code",
   "execution_count": null,
   "metadata": {},
   "outputs": [],
   "source": [
    "from sklearn.model_selection import train_test_split\n",
    "from sklearn.tree import DecisionTreeClassifier\n",
    "from sklearn.preprocessing import MinMaxScaler\n",
    "\n",
    "dfClassified = pandas.read_csv()\n",
    "#trainData, testData, trainTarget, testTarget = train_test_split(data, target, random_state=0)"
   ]
  },
  {
   "cell_type": "code",
   "execution_count": null,
   "metadata": {},
   "outputs": [],
   "source": [
    "def decisionTree():\n",
    "    classifier = DecisionTreeClassifier().fit(trainData, trainTarget)\n",
    "    "
   ]
  },
  {
   "cell_type": "code",
   "execution_count": null,
   "metadata": {},
   "outputs": [],
   "source": [
    "print('Accuracy of Decision Tree classifier on training set: {:.2f}'\n",
    "     .format(classifier.score(trainData, trainTarget)))\n",
    "    print('Accuracy of Decision Tree classifier on test set: {:.2f}'\n",
    "     .format(classifier.score(testData, testTarget)))"
   ]
  },
  {
   "cell_type": "code",
   "execution_count": null,
   "metadata": {},
   "outputs": [],
   "source": []
  },
  {
   "cell_type": "code",
   "execution_count": null,
   "metadata": {},
   "outputs": [],
   "source": []
  }
 ],
 "metadata": {
  "kernelspec": {
   "display_name": "Python 3",
   "language": "python",
   "name": "python3"
  },
  "language_info": {
   "codemirror_mode": {
    "name": "ipython",
    "version": 3
   },
   "file_extension": ".py",
   "mimetype": "text/x-python",
   "name": "python",
   "nbconvert_exporter": "python",
   "pygments_lexer": "ipython3",
   "version": "3.7.0"
  }
 },
 "nbformat": 4,
 "nbformat_minor": 2
}
