{
 "cells": [
  {
   "cell_type": "code",
   "execution_count": 35,
   "metadata": {},
   "outputs": [],
   "source": [
    "import pandas as pandas"
   ]
  },
  {
   "cell_type": "code",
   "execution_count": 36,
   "metadata": {},
   "outputs": [],
   "source": [
    "dataFrameHotels = pandas.read_csv(\"./Hotels_data_Changed.csv\")"
   ]
  },
  {
   "cell_type": "code",
   "execution_count": 37,
   "metadata": {},
   "outputs": [],
   "source": [
    "def prepareDataFormat(dataFrameHotels):\n",
    "    dataFrameHotels['Checkin Date'] = pandas.to_datetime(dataFrameHotels['Checkin Date'])\n",
    "    dataFrameHotels['Snapshot Date'] = pandas.to_datetime(dataFrameHotels['Snapshot Date'])\n",
    "    dataFrameHotels['DayDiff'] = pandas.to_datetime(dataFrameHotels['DayDiff']).dt.days\n",
    "    "
   ]
  },
  {
   "cell_type": "code",
   "execution_count": 38,
   "metadata": {},
   "outputs": [
    {
     "ename": "AttributeError",
     "evalue": "'DatetimeProperties' object has no attribute 'days'",
     "output_type": "error",
     "traceback": [
      "\u001b[1;31m---------------------------------------------------------------------------\u001b[0m",
      "\u001b[1;31mAttributeError\u001b[0m                            Traceback (most recent call last)",
      "\u001b[1;32m<ipython-input-38-d38bc34c3da8>\u001b[0m in \u001b[0;36m<module>\u001b[1;34m\u001b[0m\n\u001b[1;32m----> 1\u001b[1;33m \u001b[0mprepareDataFormat\u001b[0m\u001b[1;33m(\u001b[0m\u001b[0mdataFrameHotels\u001b[0m\u001b[1;33m)\u001b[0m\u001b[1;33m\u001b[0m\u001b[1;33m\u001b[0m\u001b[0m\n\u001b[0m",
      "\u001b[1;32m<ipython-input-37-a0f1d45cc7c5>\u001b[0m in \u001b[0;36mprepareDataFormat\u001b[1;34m(dataFrameHotels)\u001b[0m\n\u001b[0;32m      2\u001b[0m     \u001b[0mdataFrameHotels\u001b[0m\u001b[1;33m[\u001b[0m\u001b[1;34m'Checkin Date'\u001b[0m\u001b[1;33m]\u001b[0m \u001b[1;33m=\u001b[0m \u001b[0mpandas\u001b[0m\u001b[1;33m.\u001b[0m\u001b[0mto_datetime\u001b[0m\u001b[1;33m(\u001b[0m\u001b[0mdataFrameHotels\u001b[0m\u001b[1;33m[\u001b[0m\u001b[1;34m'Checkin Date'\u001b[0m\u001b[1;33m]\u001b[0m\u001b[1;33m)\u001b[0m\u001b[1;33m\u001b[0m\u001b[1;33m\u001b[0m\u001b[0m\n\u001b[0;32m      3\u001b[0m     \u001b[0mdataFrameHotels\u001b[0m\u001b[1;33m[\u001b[0m\u001b[1;34m'Snapshot Date'\u001b[0m\u001b[1;33m]\u001b[0m \u001b[1;33m=\u001b[0m \u001b[0mpandas\u001b[0m\u001b[1;33m.\u001b[0m\u001b[0mto_datetime\u001b[0m\u001b[1;33m(\u001b[0m\u001b[0mdataFrameHotels\u001b[0m\u001b[1;33m[\u001b[0m\u001b[1;34m'Snapshot Date'\u001b[0m\u001b[1;33m]\u001b[0m\u001b[1;33m)\u001b[0m\u001b[1;33m\u001b[0m\u001b[1;33m\u001b[0m\u001b[0m\n\u001b[1;32m----> 4\u001b[1;33m     \u001b[0mdataFrameHotels\u001b[0m\u001b[1;33m[\u001b[0m\u001b[1;34m'DayDiff'\u001b[0m\u001b[1;33m]\u001b[0m \u001b[1;33m=\u001b[0m \u001b[0mpandas\u001b[0m\u001b[1;33m.\u001b[0m\u001b[0mto_datetime\u001b[0m\u001b[1;33m(\u001b[0m\u001b[0mdataFrameHotels\u001b[0m\u001b[1;33m[\u001b[0m\u001b[1;34m'DayDiff'\u001b[0m\u001b[1;33m]\u001b[0m\u001b[1;33m)\u001b[0m\u001b[1;33m.\u001b[0m\u001b[0mdt\u001b[0m\u001b[1;33m.\u001b[0m\u001b[0mdays\u001b[0m\u001b[1;33m\u001b[0m\u001b[1;33m\u001b[0m\u001b[0m\n\u001b[0m\u001b[0;32m      5\u001b[0m \u001b[1;33m\u001b[0m\u001b[0m\n",
      "\u001b[1;31mAttributeError\u001b[0m: 'DatetimeProperties' object has no attribute 'days'"
     ]
    }
   ],
   "source": [
    "prepareDataFormat(dataFrameHotels)"
   ]
  },
  {
   "cell_type": "code",
   "execution_count": null,
   "metadata": {},
   "outputs": [],
   "source": [
    "dataFrameHotels.head()"
   ]
  },
  {
   "cell_type": "code",
   "execution_count": null,
   "metadata": {},
   "outputs": [],
   "source": [
    "groupedByParamters = dataFrameHotels.groupby(['Snapshot Date', 'Checkin Date', 'DayDiff', 'Hotel Name', 'WeekDay'])"
   ]
  },
  {
   "cell_type": "code",
   "execution_count": null,
   "metadata": {},
   "outputs": [],
   "source": [
    "def setMaxDiscountCode(group):\n",
    "\n",
    "    rowIndex = group['DiscountPerc'].idxmax(axis=1)\n",
    "\n",
    "    maxCode = group.loc[rowIndex]['Discount Code']\n",
    "\n",
    "    groupCell = group.iloc[0]\n",
    "\n",
    "    return {'Snapshot Date': groupCell['Snapshot Date'],\n",
    "            'Checkin Date': groupCell['Checkin Date'],\n",
    "            'DayDiff': groupCell['DayDiff'],\n",
    "            'Hotel Name': groupCell['Hotel Name'],\n",
    "            'WeekDay': groupCell['WeekDay'],\n",
    "            'Discount Code': maxCode }\n",
    "\n",
    "lst = groupedByParamters.apply(setMaxDiscountCode)\n",
    "\n",
    "maxCodes = pandas.concat([pandas.DataFrame([row], columns=['Snapshot Date',\n",
    "                                                  'Checkin Date',\n",
    "                                                  'DayDiff',\n",
    "                                                  'Hotel Name',\n",
    "                                                  'WeekDay',\n",
    "                                                  'Discount Code']) for index, row in lst.iteritems()], ignore_index = True)\n",
    "\n",
    "maxCodes.to_csv('classification_data.csv')"
   ]
  },
  {
   "cell_type": "code",
   "execution_count": null,
   "metadata": {},
   "outputs": [],
   "source": [
    "# סעיף ב"
   ]
  },
  {
   "cell_type": "code",
   "execution_count": null,
   "metadata": {},
   "outputs": [],
   "source": [
    "trainData = pandas.DataFrame(columns=['Snapshot Date',\n",
    "                                                  'Checkin Date',\n",
    "                                                  'DayDiff',\n",
    "                                                  'Hotel Name',\n",
    "                                                  'WeekDay'])\n",
    "trainTarget = pandas.DataFrame(columns=['Discount Code'])"
   ]
  },
  {
   "cell_type": "code",
   "execution_count": null,
   "metadata": {},
   "outputs": [],
   "source": [
    "from sklearn.model_selection import train_test_split\n",
    "X_train, X_test, y_train, y_test = train_test_split(X, y, random_state=0)"
   ]
  },
  {
   "cell_type": "code",
   "execution_count": null,
   "metadata": {},
   "outputs": [],
   "source": []
  }
 ],
 "metadata": {
  "kernelspec": {
   "display_name": "Python 3",
   "language": "python",
   "name": "python3"
  },
  "language_info": {
   "codemirror_mode": {
    "name": "ipython",
    "version": 3
   },
   "file_extension": ".py",
   "mimetype": "text/x-python",
   "name": "python",
   "nbconvert_exporter": "python",
   "pygments_lexer": "ipython3",
   "version": "3.7.1"
  }
 },
 "nbformat": 4,
 "nbformat_minor": 2
}
