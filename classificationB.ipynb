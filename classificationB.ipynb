{
 "cells": [
  {
   "cell_type": "code",
   "execution_count": null,
   "metadata": {},
   "outputs": [],
   "source": [
    "import pandas as pd\n",
    "import numpy as np\n",
    "from sklearn.model_selection import train_test_split\n",
    "from sklearn.preprocessing   import LabelEncoder\n",
    "\n",
    "from sklearn.tree            import DecisionTreeClassifier\n",
    "from sklearn.naive_bayes     import GaussianNB\n",
    "\n",
    "dfClassified = pd.read_csv(\"classification_datatTemp.csv\").head(100)"
   ]
  },
  {
   "cell_type": "code",
   "execution_count": null,
   "metadata": {},
   "outputs": [],
   "source": [
    "# Convert string columns into numeric - 'Hotel Name'\n",
    "hotelNames = dfClassified[\"Hotel Name\"]\n",
    "le = LabelEncoder()\n",
    "numericHotels = list(le.fit_transform(hotelNames.tolist()))\n",
    "dfClassified[\"Hotel Name\"] = pd.Series((numericName for numericName in numericHotels))"
   ]
  },
  {
   "cell_type": "code",
   "execution_count": null,
   "metadata": {},
   "outputs": [],
   "source": [
    "# Convert Dates columns into numeric - 'Checkin Date', 'Snapshot Date', 'DayDiff', 'WeekDay'\n",
    "\n",
    "# Set Date & numeric columns types\n",
    "dfClassified['Checkin Date']  = pd.to_datetime(dfClassified['Checkin Date'])\n",
    "dfClassified['Snapshot Date'] = pd.to_datetime(dfClassified['Snapshot Date'])\n",
    "dfClassified['DayDiff']       = pd.to_numeric(dfClassified['DayDiff'])\n",
    "\n",
    "# Change columns to have numeric values for later ML algorithms usage\n",
    "dfClassified['WeekDay']       = dfClassified['Checkin Date'].apply(lambda x: x.weekday())\n",
    "dfClassified['Checkin Date']  = dfClassified['Checkin Date'].apply(lambda x: x.timestamp())\n",
    "dfClassified['Snapshot Date'] = dfClassified['Snapshot Date'].apply(lambda x: x.timestamp())\n",
    "dfClassified['DayDiff']       = dfClassified['DayDiff'].apply(lambda x: float(x))"
   ]
  },
  {
   "cell_type": "code",
   "execution_count": null,
   "metadata": {},
   "outputs": [],
   "source": [
    "data = pd.DataFrame(dfClassified, columns=['Snapshot Date','Checkin Date','DayDiff','Hotel Name','WeekDay'])\n",
    "target = pd.DataFrame(dfClassified, columns=['Discount Code'])\n",
    "\n",
    "trainData, testData, trainTarget, testTarget = train_test_split(data, target)"
   ]
  },
  {
   "cell_type": "code",
   "execution_count": null,
   "metadata": {
    "scrolled": true
   },
   "outputs": [],
   "source": [
    "dt = DecisionTreeClassifier()\n",
    "dt.fit(trainData, trainTarget)\n",
    "print('Accuracy of Decision Tree classifier on training set: {:.2f}'.format(dt.score(trainData, trainTarget)))\n",
    "print('Accuracy of Decision Tree classifier on test set: {:.2f}'    .format(dt.score(testData, testTarget)))"
   ]
  },
  {
   "cell_type": "code",
   "execution_count": null,
   "metadata": {},
   "outputs": [],
   "source": [
    "nb = GaussianNB()\n",
    "nb.fit(trainData, trainTarget)\n",
    "\n",
    "print('Accuracy of Naive Bayes classifier on training set: {:.2f}'.format(nb.score(trainData, trainTarget)))\n",
    "print('Accuracy of Naive Bayes classifier on test set: {:.2f}'    .format(nb.score(testData, testTarget)))"
   ]
  },
  {
   "cell_type": "code",
   "execution_count": null,
   "metadata": {},
   "outputs": [],
   "source": [
    "##### The differences between Algorithms\n",
    "As we see, Decision tree algorithm is highly superior than Naive Bayes algorithm in our case.\n",
    "\n",
    "General information\n",
    "-------------------\n",
    "The Naive Bayes based on the Bayes law in statistics.\n",
    "The algorithm is considered to be much easier to implement than the decision tree and generic for many different cases.\n",
    "It works best when parameters are independent,\n",
    "In our case, There is dependent between parameters [like Checkin Date & WeekDay), and it is probably explains the results.\n",
    "\n",
    "The main disadvantege of the decision tree algorithm, is that it tends to overfit that data - \n",
    "as in the classifier has such a strong structure from the test data, that a new piece of information unknown to it might cause it to give incorrect results.\n",
    "this can be handled by pruning."
   ]
  },
  {
   "cell_type": "code",
   "execution_count": null,
   "metadata": {},
   "outputs": [],
   "source": [
    "# ['Snapshot Date', 'Checkin Date', 'DayDiff', 'Hotel Name', 'WeekDay']\n",
    "dt.feature_importances_"
   ]
  },
  {
   "cell_type": "code",
   "execution_count": null,
   "metadata": {},
   "outputs": [],
   "source": [
    "\n",
    "Parameter influence order - order by desc.\n",
    "Hotel Name\n",
    "*Snapshot Date\n",
    "*Checkin Date\n",
    "*DayDiff\n",
    "*WeekDay"
   ]
  },
  {
   "cell_type": "code",
   "execution_count": null,
   "metadata": {},
   "outputs": [],
   "source": [
    "numOfClasses = dfClassified[\"Discount Code\"].unique().size"
   ]
  },
  {
   "cell_type": "code",
   "execution_count": null,
   "metadata": {
    "scrolled": true
   },
   "outputs": [],
   "source": [
    "def printFnAndFpIndices(confusion_matrix):\n",
    "    tp = np.diag(confusion_matrix)\n",
    "    fp = confusion_matrix.sum(axis=0) - np.diag(confusion_matrix)  \n",
    "    fn = confusion_matrix.sum(axis=1) - np.diag(confusion_matrix)\n",
    "    tn = confusion_matrix.sum() - (tp + fp + fn)\n",
    "    \n",
    "    fnPerClass = []\n",
    "    fpPerClass = []\n",
    "    for i in range(numOfClasses):\n",
    "        fnPerClass.insert(i, float(fn[i]) / (tp[i]+fn[i]))\n",
    "        fpPerClass.insert(i, float(fp[i]) / (fp[i]+tn[i]))\n",
    "        \n",
    "    \n",
    "    print('False Negative')\n",
    "    print(fnPerClass)\n",
    "    print('False Poisitive')\n",
    "    print(fpPerClass)"
   ]
  },
  {
   "cell_type": "code",
   "execution_count": null,
   "metadata": {},
   "outputs": [],
   "source": [
    "from sklearn.metrics import confusion_matrix\n",
    "dtPredicated = dt.predict(testData)\n",
    "dt_confusion_matrix = confusion_matrix(testTarget, dtPredicated)\n",
    "print(\"indices for decision tree\")\n",
    "printFnAndFpIndices(dt_confusion_matrix)\n",
    "nbPredicated = nb.predict(testData)\n",
    "nb_confusion_matrix = confusion_matrix(testTarget, dtPredicated)\n",
    "print(\"indices for naive base\")\n",
    "printFnAndFpIndices(nb_confusion_matrix)\n"
   ]
  },
  {
   "cell_type": "code",
   "execution_count": null,
   "metadata": {},
   "outputs": [],
   "source": [
    "# Lets calculate the ROC for each discount code\n",
    "from sklearn.metrics import roc_curve, auc\n",
    "from sklearn.preprocessing import label_binarize\n",
    "import matplotlib.pyplot as plt\n",
    "def printRocGraph(expected, predicated) : \n",
    "    exp = label_binarize(expected.as_matrix(), classes=[1, 2, 3, 4])\n",
    "    pred = label_binarize(predicated, classes=[1, 2, 3, 4])\n",
    "    \n",
    "    fpr = dict()\n",
    "    tpr = dict()\n",
    "    roc_auc = dict()\n",
    "    \n",
    "    for i in range(numOfClasses):\n",
    "        fpr[i], tpr[i], _ = roc_curve(exp[:, i], pred[:, i])\n",
    "        roc_auc[i] = auc(fpr[i], tpr[i])\n",
    "    \n",
    "    for i in range(numOfClasses):\n",
    "        plt.plot(fpr[i], tpr[i], label='ROC curve (area = %0.2f)' % roc_auc[i])\n",
    "        plt.plot([0, 1], [0, 1], 'k--')\n",
    "        plt.xlim([0.0, 1.0])\n",
    "        plt.ylim([0.0, 1.05])\n",
    "        plt.xlabel('False Positive Rate')\n",
    "        plt.ylabel('True Positive Rate')\n",
    "        plt.title('Receiver operating characteristic ' + 'discount code ' + str(i+1))\n",
    "        plt.legend(loc=\"lower right\")\n",
    "        plt.show()\n",
    "        \n",
    "print(\"Roc curve graph for decision tree al\")\n",
    "printRocGraph(testTarget, dtPredicated) \n",
    "printRocGraph(testTarget, nbPredicated) \n",
    "    \n"
   ]
  },
  {
   "cell_type": "code",
   "execution_count": null,
   "metadata": {},
   "outputs": [],
   "source": []
  },
  {
   "cell_type": "code",
   "execution_count": null,
   "metadata": {},
   "outputs": [],
   "source": []
  }
 ],
 "metadata": {
  "kernelspec": {
   "display_name": "Python 3",
   "language": "python",
   "name": "python3"
  },
  "language_info": {
   "codemirror_mode": {
    "name": "ipython",
    "version": 3
   },
   "file_extension": ".py",
   "mimetype": "text/x-python",
   "name": "python",
   "nbconvert_exporter": "python",
   "pygments_lexer": "ipython3",
   "version": "3.7.0"
  }
 },
 "nbformat": 4,
 "nbformat_minor": 2
}
