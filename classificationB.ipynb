{
 "cells": [
  {
   "cell_type": "code",
   "execution_count": 189,
   "metadata": {},
   "outputs": [],
   "source": [
    "import pandas as pd\n",
    "\n",
    "from sklearn.model_selection import train_test_split\n",
    "from sklearn.preprocessing   import LabelEncoder\n",
    "\n",
    "from sklearn.tree            import DecisionTreeClassifier\n",
    "from sklearn.naive_bayes     import MultinomialNB\n",
    "\n",
    "dfClassified = pd.read_csv(\"classification_datatTemp.csv\").head(100)"
   ]
  },
  {
   "cell_type": "code",
   "execution_count": 190,
   "metadata": {},
   "outputs": [],
   "source": [
    "# Convert string columns into numeric - 'Hotel Name'\n",
    "hotelNames = dfClassified[\"Hotel Name\"]\n",
    "le = LabelEncoder()\n",
    "numericHotels = list(le.fit_transform(hotelNames.tolist()))\n",
    "dfClassified[\"Hotel Name\"] = pd.Series((numericName for numericName in numericHotels))"
   ]
  },
  {
   "cell_type": "code",
   "execution_count": 191,
   "metadata": {},
   "outputs": [],
   "source": [
    "# Convert Dates columns into numeric - 'Checkin Date', 'Snapshot Date', 'DayDiff', 'WeekDay'\n",
    "\n",
    "# Set Date & numeric columns types\n",
    "dfClassified['Checkin Date']  = pd.to_datetime(dfClassified['Checkin Date'])\n",
    "dfClassified['Snapshot Date'] = pd.to_datetime(dfClassified['Snapshot Date'])\n",
    "dfClassified['DayDiff']       = pd.to_numeric(dfClassified['DayDiff'])\n",
    "\n",
    "# Change columns to have numeric values for later ML algorithms usage\n",
    "dfClassified['WeekDay']       = dfClassified['Checkin Date'].apply(lambda x: x.weekday())\n",
    "dfClassified['Checkin Date']  = dfClassified['Checkin Date'].apply(lambda x: x.timestamp())\n",
    "dfClassified['Snapshot Date'] = dfClassified['Snapshot Date'].apply(lambda x: x.timestamp())\n",
    "dfClassified['DayDiff']       = dfClassified['DayDiff'].apply(lambda x: float(x))"
   ]
  },
  {
   "cell_type": "code",
   "execution_count": 192,
   "metadata": {},
   "outputs": [],
   "source": [
    "data = pd.DataFrame(dfClassified, columns=['Snapshot Date','Checkin Date','DayDiff','Hotel Name','WeekDay'])\n",
    "target = pd.DataFrame(dfClassified, columns=['Discount Code'])\n",
    "\n",
    "trainData, testData, trainTarget, testTarget = train_test_split(data, target)"
   ]
  },
  {
   "cell_type": "code",
   "execution_count": 258,
   "metadata": {
    "scrolled": true
   },
   "outputs": [
    {
     "name": "stdout",
     "output_type": "stream",
     "text": [
      "Accuracy of Decision Tree classifier on training set: 1.00\n",
      "Accuracy of Decision Tree classifier on test set: 0.16\n"
     ]
    }
   ],
   "source": [
    "dt = DecisionTreeClassifier()\n",
    "dt.fit(trainData, trainTarget)\n",
    "print('Accuracy of Decision Tree classifier on training set: {:.2f}'.format(dt.score(trainData, trainTarget)))\n",
    "print('Accuracy of Decision Tree classifier on test set: {:.2f}'    .format(dt.score(testData, testTarget)))"
   ]
  },
  {
   "cell_type": "code",
   "execution_count": 259,
   "metadata": {},
   "outputs": [
    {
     "name": "stdout",
     "output_type": "stream",
     "text": [
      "Accuracy of Naive Bayes classifier on training set: 0.43\n",
      "Accuracy of Naive Bayes classifier on test set: 0.28\n"
     ]
    },
    {
     "name": "stderr",
     "output_type": "stream",
     "text": [
      "c:\\users\\user\\appdata\\local\\programs\\python\\python37-32\\lib\\site-packages\\sklearn\\utils\\validation.py:761: DataConversionWarning: A column-vector y was passed when a 1d array was expected. Please change the shape of y to (n_samples, ), for example using ravel().\n",
      "  y = column_or_1d(y, warn=True)\n"
     ]
    }
   ],
   "source": [
    "nb = GaussianNB()\n",
    "nb.fit(trainData, trainTarget)\n",
    "\n",
    "print('Accuracy of Naive Bayes classifier on training set: {:.2f}'.format(nb.score(trainData, trainTarget)))\n",
    "print('Accuracy of Naive Bayes classifier on test set: {:.2f}'    .format(nb.score(testData, testTarget)))"
   ]
  },
  {
   "cell_type": "code",
   "execution_count": 270,
   "metadata": {},
   "outputs": [
    {
     "ename": "SyntaxError",
     "evalue": "invalid syntax (<ipython-input-270-cb5c61e5f2d8>, line 2)",
     "output_type": "error",
     "traceback": [
      "\u001b[1;36m  File \u001b[1;32m\"<ipython-input-270-cb5c61e5f2d8>\"\u001b[1;36m, line \u001b[1;32m2\u001b[0m\n\u001b[1;33m    As we see, Decision tree algorithm is highly superior than Naive Bayes algorithm in our case.\u001b[0m\n\u001b[1;37m        ^\u001b[0m\n\u001b[1;31mSyntaxError\u001b[0m\u001b[1;31m:\u001b[0m invalid syntax\n"
     ]
    }
   ],
   "source": [
    "##### The differences between Algorithms\n",
    "As we see, Decision tree algorithm is highly superior than Naive Bayes algorithm in our case.\n",
    "\n",
    "General information\n",
    "-------------------\n",
    "The Naive Bayes based on the Bayes law in statistics.\n",
    "The algorithm is considered to be much easier to implement than the decision tree and generic for many different cases.\n",
    "It works best when parameters are independent,\n",
    "In our case, There is dependent between parameters [like Checkin Date & WeekDay), and it is probably explains the results.\n",
    "\n",
    "The main disadvantege of the decision tree algorithm, is that it tends to overfit that data - \n",
    "as in the classifier has such a strong structure from the test data, that a new piece of information unknown to it might cause it to give incorrect results.\n",
    "this can be handled by pruning."
   ]
  },
  {
   "cell_type": "code",
   "execution_count": 275,
   "metadata": {},
   "outputs": [
    {
     "data": {
      "text/plain": [
       "array([0.        , 0.03071234, 0.17355241, 0.59612885, 0.1996064 ])"
      ]
     },
     "execution_count": 275,
     "metadata": {},
     "output_type": "execute_result"
    }
   ],
   "source": [
    "# ['Snapshot Date', 'Checkin Date', 'DayDiff', 'Hotel Name', 'WeekDay']\n",
    "dt.feature_importances_"
   ]
  },
  {
   "cell_type": "code",
   "execution_count": 277,
   "metadata": {},
   "outputs": [
    {
     "ename": "SyntaxError",
     "evalue": "invalid syntax (<ipython-input-277-850f9cd22291>, line 2)",
     "output_type": "error",
     "traceback": [
      "\u001b[1;36m  File \u001b[1;32m\"<ipython-input-277-850f9cd22291>\"\u001b[1;36m, line \u001b[1;32m2\u001b[0m\n\u001b[1;33m    Parameter influence order - order by desc.\u001b[0m\n\u001b[1;37m                      ^\u001b[0m\n\u001b[1;31mSyntaxError\u001b[0m\u001b[1;31m:\u001b[0m invalid syntax\n"
     ]
    }
   ],
   "source": [
    "\n",
    "Parameter influence order - order by desc.\n",
    "Hotel Name\n",
    "*Snapshot Date\n",
    "*Checkin Date\n",
    "*DayDiff\n",
    "*WeekDay"
   ]
  },
  {
   "cell_type": "code",
   "execution_count": null,
   "metadata": {},
   "outputs": [],
   "source": []
  }
 ],
 "metadata": {
  "kernelspec": {
   "display_name": "Python 3",
   "language": "python",
   "name": "python3"
  },
  "language_info": {
   "codemirror_mode": {
    "name": "ipython",
    "version": 3
   },
   "file_extension": ".py",
   "mimetype": "text/x-python",
   "name": "python",
   "nbconvert_exporter": "python",
   "pygments_lexer": "ipython3",
   "version": "3.7.0"
  }
 },
 "nbformat": 4,
 "nbformat_minor": 2
}
