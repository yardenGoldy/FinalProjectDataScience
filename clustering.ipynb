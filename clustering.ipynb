{
 "cells": [
  {
   "cell_type": "code",
   "execution_count": 23,
   "metadata": {},
   "outputs": [],
   "source": [
    "import pandas as pd\n",
    "import matplotlib\n",
    "\n",
    "# loads origin csv data\n",
    "hotels = pd.read_csv(\"hotels_data.csv\").head(200)\n",
    "\n",
    "# Group by hotel name\n",
    "hotelgrouped = hotels.groupby(['Hotel Name'])\n",
    "\n",
    "# Sort by count and take first 150\n",
    "releHotels = hotelgrouped.agg(['count'])['Days'].sort_values(by=['count'], ascending=False)\n",
    "releHotels = releHotels.head(150)\n",
    "\n",
    "# Take only that hotels' data\n",
    "hotels = hotels.loc[hotels['Hotel Name'].isin(releHotels.index)]\n",
    "\n",
    "# Group by check in date\n",
    "dateGrouped = hotels.groupby(['Checkin Date'])\n",
    "\n",
    "# Sort by count and take first 40\n",
    "releDates = dateGrouped.agg(['count'])['Days'].sort_values(by=['count'], ascending=False)\n",
    "releDates = releDates.head(40)\n",
    "\n",
    "# Take only that Checkin Date' data\n",
    "hotels = hotels.loc[hotels['Checkin Date'].isin(releDates.index)]\n",
    "hotelgrouped = hotels.groupby(['Hotel Name'])"
   ]
  },
  {
   "cell_type": "code",
   "execution_count": 25,
   "metadata": {},
   "outputs": [],
   "source": [
    "# Get Dates as a list\n",
    "dateslst = releDates.index.values\n",
    "\n",
    "# Create a list of hotels that contains a list of discount codes across dates\n",
    "tempLst = list(map(lambda date: list(map(lambda disCode: date + \"-\" + str(disCode),[1,2,3,4])),dateslst))\n",
    "\n",
    "# Flatten the list\n",
    "finalLst = [item for sublist in tempLst for item in sublist]\n",
    "\n",
    "# Create a new dataframe\n",
    "# it's columns - hotel name and the created list\n",
    "clusterDf = pd.DataFrame(columns=['Hotel Name'] + finalLst)\n",
    "\n",
    "hotelgrouped = hotels.groupby(['Hotel Name'])\n",
    "hotelgrouped\n",
    "# Go over every group of hotel\n",
    "for htlName, htlGroup in hotelgrouped:\n",
    "    # Create Current Hotel Row\n",
    "    htlCurrRow = {'Hotel Name': htlName}\n",
    "    \n",
    "    # Group by Checkin Date\n",
    "    currDateGrouped = htlGroup.groupby(['Checkin Date'])\n",
    "    # Go over every Checkin Date in current hotel\n",
    "    for chkName, chkGroup in currDateGrouped:\n",
    "        # Group by Discount Code\n",
    "        dCodeGrouped = htlGroup.groupby(['Discount Code'])\n",
    "        \n",
    "        # Go over every Discount Code in current Checkin Date\n",
    "        for dCodeName, dCodeGroup in dCodeGrouped:\n",
    "            \n",
    "            # Get index of the minimun price for current parameters\n",
    "            rowIdx = dCodeGroup['Discount Price'].idxmin(axis=1)\n",
    "            \n",
    "            # Extract the value\n",
    "            lowPrice = dCodeGroup.loc[rowIdx]['Discount Price']\n",
    "            \n",
    "            # Set for current hotel,checkin and discount code value\n",
    "            htlCurrRow[chkName + \"-\" + str(dCodeName)] = lowPrice\n",
    "    \n",
    "    # Add the created hotel row to the clustering dataframe\n",
    "    clusterDf = clusterDf.append(htlCurrRow, ignore_index=True)\n",
    "\n",
    "# Add missing values to a default -1\n",
    "clusterDf = clusterDf.fillna(-1)"
   ]
  },
  {
   "cell_type": "code",
   "execution_count": 26,
   "metadata": {},
   "outputs": [],
   "source": [
    "import math\n",
    "\n",
    "# Normalize according to the ratio of current price to max price\n",
    "def normalize(maxi, mini, val):\n",
    "    if (maxi == mini):\n",
    "        return 100\n",
    "    else:\n",
    "        return (float(val - mini) / (maxi - mini)) * 100\n",
    "\n",
    "# Create dataframe with no names for normalization \n",
    "clusterVals = clusterDf.drop('Hotel Name', axis=1)\n",
    "\n",
    "# Go over rows and normalize each one:\n",
    "for rowIdx, row in  clusterVals.iterrows():\n",
    "    \n",
    "    # Reset current maximum and minimum\n",
    "    currMax = row.max()\n",
    "    currMin = currMax\n",
    "    \n",
    "    # Go over every column and find minimum value\n",
    "    for col in clusterVals:\n",
    "        \n",
    "        # Checks if current cell's value is different than -1 and smaller than current minimum value\n",
    "        if row[col] != -1 and row[col] < currMin:\n",
    "            currMin = row[col]\n",
    "    \n",
    "    # Normalize curr row cells\n",
    "    clusterDf.iloc[rowIdx,1:161] = clusterDf.iloc[rowIdx,1:161].apply(lambda val: -1 if val == -1 else normalize(currMax, currMin, val))\n",
    "\n",
    "#clusterDf"
   ]
  },
  {
   "cell_type": "markdown",
   "metadata": {},
   "source": [
    "#### Markdown cell"
   ]
  },
  {
   "cell_type": "code",
   "execution_count": null,
   "metadata": {},
   "outputs": [],
   "source": []
  },
  {
   "cell_type": "code",
   "execution_count": 27,
   "metadata": {},
   "outputs": [
    {
     "name": "stdout",
     "output_type": "stream",
     "text": [
      "Populating the interactive namespace from numpy and matplotlib\n"
     ]
    },
    {
     "data": {
      "image/png": "[encoded data removed]",
      "text/plain": [
       "<Figure size 1440x720 with 1 Axes>"
      ]
     },
     "metadata": {
      "needs_background": "light"
     },
     "output_type": "display_data"
    }
   ],
   "source": [
    "%pylab inline\n",
    "pylab.rcParams['figure.figsize'] = (20, 10)\n",
    "\n",
    "from matplotlib import pyplot as plt\n",
    "from scipy.cluster.hierarchy import dendrogram, linkage\n",
    "\n",
    "clusterVals = clusterDf.drop('Hotel Name', axis=1)\n",
    "linkage_matrix = linkage(clusterVals, 'ward')\n",
    "dendrogram(\n",
    "    linkage_matrix,\n",
    "    truncate_mode=\"lastp\",  # show only the last p merged clusters\n",
    "    p=149,  # show only the last p merged clusters\n",
    "    show_leaf_counts=True,  # numbers in brackets are counts, others idx\n",
    "    leaf_rotation=60.,\n",
    "    leaf_font_size=6.,\n",
    "    show_contracted=True,  # to get a distribution impression in truncated branches\n",
    ")\n",
    "plt.title('Hierarchical Clustering Dendrogram')\n",
    "plt.axhline(y=2400)\n",
    "plt.axhline(y=1600)\n",
    "plt.axhline(y=800)\n",
    "plt.show()"
   ]
  }
 ],
 "metadata": {
  "kernelspec": {
   "display_name": "Python 3",
   "language": "python",
   "name": "python3"
  },
  "language_info": {
   "codemirror_mode": {
    "name": "ipython",
    "version": 3
   },
   "file_extension": ".py",
   "mimetype": "text/x-python",
   "name": "python",
   "nbconvert_exporter": "python",
   "pygments_lexer": "ipython3",
   "version": "3.7.1"
  }
 },
 "nbformat": 4,
 "nbformat_minor": 2
}
